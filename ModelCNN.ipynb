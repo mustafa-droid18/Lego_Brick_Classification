{
 "cells": [
  {
   "cell_type": "code",
   "execution_count": 15,
   "metadata": {},
   "outputs": [],
   "source": [
    "import numpy as np\n",
    "import matplotlib.pyplot as plt\n",
    "from keras.preprocessing.image import ImageDataGenerator\n",
    "from tensorflow.keras.utils import load_img,img_to_array,array_to_img\n",
    "from keras.layers import Input, Conv2D, Flatten, MaxPooling2D, Dense, BatchNormalization, DepthwiseConv2D, LeakyReLU, Add, GlobalMaxPooling2D\n",
    "from tensorflow.keras.models import Model\n",
    "from tensorflow.keras.models import load_model\n",
    "from skimage.transform import resize\n",
    "from PIL import Image, ImageOps\n",
    "\n",
    "import glob, os, random"
   ]
  },
  {
   "cell_type": "code",
   "execution_count": 16,
   "metadata": {},
   "outputs": [
    {
     "name": "stdout",
     "output_type": "stream",
     "text": [
      "4559\n"
     ]
    }
   ],
   "source": [
    "base_path = 'Images/Train/'\n",
    "\n",
    "img_list = glob.glob(os.path.join(base_path, '*/*.jpg'))\n",
    "\n",
    "print(len(img_list))"
   ]
  },
  {
   "cell_type": "code",
   "execution_count": 17,
   "metadata": {},
   "outputs": [
    {
     "data": {
      "image/png": "[encoded data removed]",
      "text/plain": [
       "<Figure size 640x480 with 6 Axes>"
      ]
     },
     "metadata": {},
     "output_type": "display_data"
    }
   ],
   "source": [
    "for i, img_path in enumerate(random.sample(img_list, 6)):\n",
    "    img = load_img(img_path)\n",
    "    \n",
    "    img = img_to_array(img, dtype=np.uint8)\n",
    "    \n",
    "    old_size = img.shape[:2]\n",
    "    ratio = 200. / max(old_size)\n",
    "    new_size = tuple([int(x*ratio) for x in old_size])\n",
    "    \n",
    "    img = resize(img, output_shape=new_size, mode='edge', preserve_range=True).astype(np.uint8)\n",
    "    \n",
    "    delta_w = 200 - new_size[1]\n",
    "    delta_h = 200 - new_size[0]\n",
    "    padding = ((delta_h//2, delta_h-(delta_h//2)), (delta_w//2, delta_w-(delta_w//2)), (0, 0))\n",
    "    \n",
    "    img = np.pad(img, padding, 'edge')\n",
    "\n",
    "    plt.subplot(2, 3, i+1)\n",
    "    plt.imshow(img.squeeze())"
   ]
  },
  {
   "cell_type": "code",
   "execution_count": 18,
   "metadata": {},
   "outputs": [
    {
     "name": "stdout",
     "output_type": "stream",
     "text": [
      "Found 4112 images belonging to 20 classes.\n",
      "Found 447 images belonging to 20 classes.\n",
      "{0: 'Brick_1x1', 1: 'Brick_1x2', 2: 'Brick_1x3', 3: 'Brick_1x4', 4: 'Brick_2x2', 5: 'Brick_2x2_L', 6: 'Brick_2x2_Slope', 7: 'Brick_2x3', 8: 'Brick_2x4', 9: 'Plate_1x1', 10: 'Plate_1x1_Round', 11: 'Plate_1x1_Slope', 12: 'Plate_1x2', 13: 'Plate_1x2_Grill', 14: 'Plate_1x3', 15: 'Plate_1x4', 16: 'Plate_2x2', 17: 'Plate_2x2_L', 18: 'Plate_2x3', 19: 'Plate_2x4'}\n"
     ]
    }
   ],
   "source": [
    "def resize_pad(img):\n",
    "    old_size = img.shape[:2]\n",
    "    ratio = 200. / max(old_size)\n",
    "    new_size = tuple([int(x*ratio) for x in old_size])\n",
    "    \n",
    "    img = resize(img, output_shape=new_size, mode='edge', preserve_range=True)\n",
    "    \n",
    "    delta_w = 200 - new_size[1]\n",
    "    delta_h = 200 - new_size[0]\n",
    "    padding = ((delta_h//2, delta_h-(delta_h//2)), (delta_w//2, delta_w-(delta_w//2)), (0, 0))\n",
    "    \n",
    "    img = np.pad(img, padding, 'edge')\n",
    "    \n",
    "    return img\n",
    "\n",
    "def preprocessing_train(x):\n",
    "    x = resize_pad(x)\n",
    "    return x\n",
    "\n",
    "def preprocessing_val(x):\n",
    "    x = resize_pad(x)\n",
    "    return x\n",
    "\n",
    "train_datagen = ImageDataGenerator(\n",
    "    preprocessing_function=preprocessing_train,\n",
    "    rescale=1./255,\n",
    "    zoom_range=0.05,\n",
    "    width_shift_range=0.05,\n",
    "    height_shift_range=0.05,\n",
    "    horizontal_flip=True,\n",
    "    vertical_flip=True,\n",
    "    rotation_range=90,\n",
    "    validation_split=0.1\n",
    ")\n",
    "\n",
    "test_datagen = ImageDataGenerator(\n",
    "    preprocessing_function=preprocessing_val,\n",
    "    rescale=1./255,\n",
    "    validation_split=0.1\n",
    ")\n",
    "\n",
    "train_generator = train_datagen.flow_from_directory(\n",
    "    base_path,\n",
    "    color_mode='grayscale',\n",
    "    target_size=(200, 200),\n",
    "    batch_size=32,\n",
    "    class_mode='categorical',\n",
    "    subset='training',\n",
    "    seed=0\n",
    ")\n",
    "\n",
    "validation_generator = test_datagen.flow_from_directory(\n",
    "    base_path,\n",
    "    color_mode='grayscale',\n",
    "    target_size=(200, 200),\n",
    "    batch_size=32,\n",
    "    class_mode='categorical',\n",
    "    subset='validation',\n",
    "    seed=0\n",
    ")\n",
    "\n",
    "labels = (train_generator.class_indices)\n",
    "labels = dict((v,k) for k,v in labels.items())\n",
    "\n",
    "print(labels)"
   ]
  },
  {
   "cell_type": "code",
   "execution_count": 19,
   "metadata": {},
   "outputs": [
    {
     "name": "stdout",
     "output_type": "stream",
     "text": [
      "Model: \"model\"\n",
      "__________________________________________________________________________________________________\n",
      " Layer (type)                   Output Shape         Param #     Connected to                     \n",
      "==================================================================================================\n",
      " input_1 (InputLayer)           [(None, 200, 200, 1  0           []                               \n",
      "                                )]                                                                \n",
      "                                                                                                  \n",
      " conv2d (Conv2D)                (None, 200, 200, 64  640         ['input_1[0][0]']                \n",
      "                                )                                                                 \n",
      "                                                                                                  \n",
      " leaky_re_lu (LeakyReLU)        (None, 200, 200, 64  0           ['conv2d[0][0]']                 \n",
      "                                )                                                                 \n",
      "                                                                                                  \n",
      " max_pooling2d (MaxPooling2D)   (None, 100, 100, 64  0           ['leaky_re_lu[0][0]']            \n",
      "                                )                                                                 \n",
      "                                                                                                  \n",
      " conv2d_1 (Conv2D)              (None, 100, 100, 64  36928       ['max_pooling2d[0][0]']          \n",
      "                                )                                                                 \n",
      "                                                                                                  \n",
      " leaky_re_lu_1 (LeakyReLU)      (None, 100, 100, 64  0           ['conv2d_1[0][0]']               \n",
      "                                )                                                                 \n",
      "                                                                                                  \n",
      " max_pooling2d_1 (MaxPooling2D)  (None, 50, 50, 64)  0           ['leaky_re_lu_1[0][0]']          \n",
      "                                                                                                  \n",
      " conv2d_2 (Conv2D)              (None, 50, 50, 64)   36928       ['max_pooling2d_1[0][0]']        \n",
      "                                                                                                  \n",
      " leaky_re_lu_2 (LeakyReLU)      (None, 50, 50, 64)   0           ['conv2d_2[0][0]']               \n",
      "                                                                                                  \n",
      " max_pooling2d_2 (MaxPooling2D)  (None, 25, 25, 64)  0           ['leaky_re_lu_2[0][0]']          \n",
      "                                                                                                  \n",
      " depthwise_conv2d (DepthwiseCon  (None, 25, 25, 64)  640         ['max_pooling2d_2[0][0]']        \n",
      " v2D)                                                                                             \n",
      "                                                                                                  \n",
      " leaky_re_lu_3 (LeakyReLU)      (None, 25, 25, 64)   0           ['depthwise_conv2d[0][0]']       \n",
      "                                                                                                  \n",
      " conv2d_3 (Conv2D)              (None, 25, 25, 64)   4160        ['leaky_re_lu_3[0][0]']          \n",
      "                                                                                                  \n",
      " leaky_re_lu_4 (LeakyReLU)      (None, 25, 25, 64)   0           ['conv2d_3[0][0]']               \n",
      "                                                                                                  \n",
      " depthwise_conv2d_1 (DepthwiseC  (None, 25, 25, 64)  640         ['leaky_re_lu_4[0][0]']          \n",
      " onv2D)                                                                                           \n",
      "                                                                                                  \n",
      " leaky_re_lu_5 (LeakyReLU)      (None, 25, 25, 64)   0           ['depthwise_conv2d_1[0][0]']     \n",
      "                                                                                                  \n",
      " conv2d_4 (Conv2D)              (None, 25, 25, 64)   4160        ['leaky_re_lu_5[0][0]']          \n",
      "                                                                                                  \n",
      " leaky_re_lu_6 (LeakyReLU)      (None, 25, 25, 64)   0           ['conv2d_4[0][0]']               \n",
      "                                                                                                  \n",
      " add (Add)                      (None, 25, 25, 64)   0           ['max_pooling2d_2[0][0]',        \n",
      "                                                                  'leaky_re_lu_6[0][0]']          \n",
      "                                                                                                  \n",
      " conv2d_5 (Conv2D)              (None, 25, 25, 64)   36928       ['add[0][0]']                    \n",
      "                                                                                                  \n",
      " leaky_re_lu_7 (LeakyReLU)      (None, 25, 25, 64)   0           ['conv2d_5[0][0]']               \n",
      "                                                                                                  \n",
      " max_pooling2d_3 (MaxPooling2D)  (None, 12, 12, 64)  0           ['leaky_re_lu_7[0][0]']          \n",
      "                                                                                                  \n",
      " conv2d_6 (Conv2D)              (None, 12, 12, 64)   36928       ['max_pooling2d_3[0][0]']        \n",
      "                                                                                                  \n",
      " leaky_re_lu_8 (LeakyReLU)      (None, 12, 12, 64)   0           ['conv2d_6[0][0]']               \n",
      "                                                                                                  \n",
      " max_pooling2d_4 (MaxPooling2D)  (None, 6, 6, 64)    0           ['leaky_re_lu_8[0][0]']          \n",
      "                                                                                                  \n",
      " depthwise_conv2d_2 (DepthwiseC  (None, 6, 6, 64)    640         ['max_pooling2d_4[0][0]']        \n",
      " onv2D)                                                                                           \n",
      "                                                                                                  \n",
      " leaky_re_lu_9 (LeakyReLU)      (None, 6, 6, 64)     0           ['depthwise_conv2d_2[0][0]']     \n",
      "                                                                                                  \n",
      " conv2d_7 (Conv2D)              (None, 6, 6, 128)    8320        ['leaky_re_lu_9[0][0]']          \n",
      "                                                                                                  \n",
      " leaky_re_lu_10 (LeakyReLU)     (None, 6, 6, 128)    0           ['conv2d_7[0][0]']               \n",
      "                                                                                                  \n",
      " flatten (Flatten)              (None, 4608)         0           ['leaky_re_lu_10[0][0]']         \n",
      "                                                                                                  \n",
      " dense (Dense)                  (None, 128)          589952      ['flatten[0][0]']                \n",
      "                                                                                                  \n",
      " dense_1 (Dense)                (None, 64)           8256        ['dense[0][0]']                  \n",
      "                                                                                                  \n",
      " dense_2 (Dense)                (None, 20)           1300        ['dense_1[0][0]']                \n",
      "                                                                                                  \n",
      "==================================================================================================\n",
      "Total params: 766,420\n",
      "Trainable params: 766,420\n",
      "Non-trainable params: 0\n",
      "__________________________________________________________________________________________________\n"
     ]
    }
   ],
   "source": [
    "inputs = Input(shape=(200, 200, 1))\n",
    "\n",
    "net = Conv2D(filters=64, kernel_size=3, padding='same')(inputs)\n",
    "net = LeakyReLU()(net)\n",
    "net = MaxPooling2D()(net)\n",
    "\n",
    "net = Conv2D(filters=64, kernel_size=3, padding='same')(net)\n",
    "net = LeakyReLU()(net)\n",
    "net = MaxPooling2D()(net)\n",
    "\n",
    "net = Conv2D(filters=64, kernel_size=3, padding='same')(net)\n",
    "net = LeakyReLU()(net)\n",
    "net = MaxPooling2D()(net)\n",
    "\n",
    "shortcut = net\n",
    "\n",
    "net = DepthwiseConv2D(kernel_size=3, padding='same')(net)\n",
    "net = LeakyReLU()(net)\n",
    "\n",
    "net = Conv2D(filters=64, kernel_size=1, padding='same')(net)\n",
    "net = LeakyReLU()(net)\n",
    "\n",
    "net = DepthwiseConv2D(kernel_size=3, padding='same')(net)\n",
    "net = LeakyReLU()(net)\n",
    "\n",
    "net = Conv2D(filters=64, kernel_size=1, padding='same')(net)\n",
    "net = LeakyReLU()(net)\n",
    "\n",
    "net = Add()([shortcut, net])\n",
    "\n",
    "net = Conv2D(filters=64, kernel_size=3, padding='same')(net)\n",
    "net = LeakyReLU()(net)\n",
    "net = MaxPooling2D()(net)\n",
    "\n",
    "net = Conv2D(filters=64, kernel_size=3, padding='same')(net)\n",
    "net = LeakyReLU()(net)\n",
    "net = MaxPooling2D()(net)\n",
    "\n",
    "net = DepthwiseConv2D(kernel_size=3, padding='same')(net)\n",
    "net = LeakyReLU()(net)\n",
    "\n",
    "net = Conv2D(filters=128, kernel_size=1, padding='same')(net)\n",
    "net = LeakyReLU()(net)\n",
    "\n",
    "net = Flatten()(net)\n",
    "\n",
    "net = Dense(128, activation='relu')(net)\n",
    "\n",
    "net = Dense(64, activation='relu')(net)\n",
    "\n",
    "outputs = Dense(20, activation='softmax')(net)\n",
    "\n",
    "model = Model(inputs=inputs, outputs=outputs)\n",
    "\n",
    "model.compile(loss='categorical_crossentropy', optimizer='adam', metrics=['acc'])\n",
    "\n",
    "model.summary()"
   ]
  },
  {
   "cell_type": "code",
   "execution_count": 21,
   "metadata": {},
   "outputs": [
    {
     "name": "stdout",
     "output_type": "stream",
     "text": [
      "Epoch 1/20\n",
      "129/129 [==============================] - 128s 986ms/step - loss: 0.5128 - acc: 0.8013 - val_loss: 1.6529 - val_acc: 0.5257\n",
      "Epoch 2/20\n",
      "129/129 [==============================] - 121s 940ms/step - loss: 0.5070 - acc: 0.8057 - val_loss: 2.6174 - val_acc: 0.3982\n",
      "Epoch 3/20\n",
      "129/129 [==============================] - 124s 959ms/step - loss: 0.5275 - acc: 0.8016 - val_loss: 1.8901 - val_acc: 0.4810\n",
      "Epoch 4/20\n",
      "129/129 [==============================] - 122s 944ms/step - loss: 0.5059 - acc: 0.8127 - val_loss: 1.9660 - val_acc: 0.4564\n",
      "Epoch 5/20\n",
      "129/129 [==============================] - 118s 912ms/step - loss: 0.4928 - acc: 0.8106 - val_loss: 2.8481 - val_acc: 0.3333\n",
      "Epoch 6/20\n",
      "129/129 [==============================] - 130s 1s/step - loss: 0.4841 - acc: 0.8193 - val_loss: 1.5435 - val_acc: 0.5727\n",
      "Epoch 7/20\n",
      "129/129 [==============================] - 129s 1s/step - loss: 0.5239 - acc: 0.8001 - val_loss: 1.7226 - val_acc: 0.4720\n",
      "Epoch 8/20\n",
      "129/129 [==============================] - 127s 984ms/step - loss: 0.4708 - acc: 0.8188 - val_loss: 2.4225 - val_acc: 0.3468\n",
      "Epoch 9/20\n",
      "129/129 [==============================] - 128s 989ms/step - loss: 0.4656 - acc: 0.8286 - val_loss: 2.6629 - val_acc: 0.3624\n",
      "Epoch 10/20\n",
      "129/129 [==============================] - 135s 1s/step - loss: 0.4486 - acc: 0.8324 - val_loss: 2.3530 - val_acc: 0.4653\n",
      "Epoch 11/20\n",
      "129/129 [==============================] - 144s 1s/step - loss: 0.4491 - acc: 0.8293 - val_loss: 3.2980 - val_acc: 0.3490\n",
      "Epoch 12/20\n",
      "129/129 [==============================] - 131s 1s/step - loss: 0.4516 - acc: 0.8320 - val_loss: 2.4222 - val_acc: 0.4027\n",
      "Epoch 13/20\n",
      "129/129 [==============================] - 132s 1s/step - loss: 0.4466 - acc: 0.8385 - val_loss: 1.8200 - val_acc: 0.4877\n",
      "Epoch 14/20\n",
      "129/129 [==============================] - 131s 1s/step - loss: 0.4617 - acc: 0.8249 - val_loss: 2.3983 - val_acc: 0.4161\n",
      "Epoch 15/20\n",
      "129/129 [==============================] - 144s 1s/step - loss: 0.4288 - acc: 0.8358 - val_loss: 2.0180 - val_acc: 0.4810\n",
      "Epoch 16/20\n",
      "129/129 [==============================] - 135s 1s/step - loss: 0.4163 - acc: 0.8366 - val_loss: 2.4564 - val_acc: 0.4273\n",
      "Epoch 17/20\n",
      "129/129 [==============================] - 131s 1s/step - loss: 0.4231 - acc: 0.8456 - val_loss: 2.9827 - val_acc: 0.3087\n",
      "Epoch 18/20\n",
      "129/129 [==============================] - 128s 989ms/step - loss: 0.4258 - acc: 0.8366 - val_loss: 1.6902 - val_acc: 0.5593\n",
      "Epoch 19/20\n",
      "129/129 [==============================] - 134s 1s/step - loss: 0.4212 - acc: 0.8417 - val_loss: 3.1369 - val_acc: 0.3289\n",
      "Epoch 20/20\n",
      "129/129 [==============================] - 125s 972ms/step - loss: 0.4056 - acc: 0.8448 - val_loss: 3.9000 - val_acc: 0.2931\n"
     ]
    },
    {
     "data": {
      "text/plain": [
       "<keras.callbacks.History at 0x1624b107b50>"
      ]
     },
     "execution_count": 21,
     "metadata": {},
     "output_type": "execute_result"
    }
   ],
   "source": [
    "model.fit(train_generator, epochs=20, validation_data=validation_generator)"
   ]
  },
  {
   "cell_type": "code",
   "execution_count": 22,
   "metadata": {},
   "outputs": [
    {
     "name": "stdout",
     "output_type": "stream",
     "text": [
      "Model Saved!\n"
     ]
    }
   ],
   "source": [
    "model.save_weights('Weights4')\n",
    "print('Model Saved!')"
   ]
  },
  {
   "cell_type": "code",
   "execution_count": 104,
   "metadata": {},
   "outputs": [
    {
     "name": "stdout",
     "output_type": "stream",
     "text": [
      "(95, 116)\n",
      "(200, 200, 1)\n",
      "(1, 200, 200, 1)\n",
      "1/1 [==============================] - 0s 62ms/step\n",
      "[[3.8606898e-10 1.5702764e-08 5.3692814e-12 2.3668520e-11 5.2063121e-11\n",
      "  2.5737523e-13 5.5758250e-05 3.0902191e-12 1.5887248e-09 1.5531806e-07\n",
      "  5.6431457e-08 3.1620865e-03 2.7961762e-05 9.9636155e-01 3.5614206e-04\n",
      "  3.6321013e-05 1.5704140e-08 8.9034318e-09 4.6244647e-11 1.7894328e-09]]\n",
      "Plate_1x2_Grill\n",
      "13\n"
     ]
    },
    {
     "data": {
      "image/png": "[encoded data removed]",
      "text/plain": [
       "<Figure size 640x480 with 1 Axes>"
      ]
     },
     "metadata": {},
     "output_type": "display_data"
    }
   ],
   "source": [
    "savedModel = model.load_weights('Weights2')\n",
    "import cv2\n",
    "def get_image(image_path):\n",
    "    image = cv2.imread(image_path)\n",
    "    image = cv2.cvtColor(image, cv2.COLOR_BGR2RGB)\n",
    "    #converting to gray scale\n",
    "    gray=cv2.cvtColor(image,cv2.COLOR_BGR2GRAY)\n",
    "\n",
    "    #applying canny edge detection\n",
    "    edged = cv2.Canny(gray, 10,100)\n",
    "\n",
    "    #finding contours\n",
    "    contours, _ = cv2.findContours(edged.copy(), cv2.RETR_EXTERNAL, cv2.CHAIN_APPROX_SIMPLE)\n",
    "    idx = 0\n",
    "    for c in contours:\n",
    "\t    x,y,w,h = cv2.boundingRect(c)\n",
    "\t    if w>50 and h>50:\n",
    "\t\t    idx+=1\n",
    "\t\t    new_img=image[y:y+h,x:x+w]\n",
    "    blurred = cv2.GaussianBlur(new_img, (1, 1), 0)\n",
    "    edged = cv2.Canny(blurred,10, 100, apertureSize= 3)\n",
    "    kernel = cv2.getStructuringElement(cv2.MORPH_RECT, (3, 3))\n",
    "    dilate = cv2.dilate(edged, kernel, iterations=1)\n",
    "    return (dilate)\n",
    "    #return image\n",
    "\n",
    "test=get_image('test2.jpg')\n",
    "img = img_to_array(test, dtype=np.float32)\n",
    "print(test.shape)\n",
    "plt.imshow(test)\n",
    "\n",
    "test=resize_pad(img)\n",
    "print(test.shape)\n",
    "test = test.reshape((1,) + test.shape)\n",
    "print(test.shape)\n",
    "test = test_datagen.flow(test, batch_size=32, shuffle=False)\n",
    "\n",
    "predictions=model.predict(test)\n",
    "print(predictions)\n",
    "\n",
    "pred=np.argmax(predictions)\n",
    "print(labels[pred])\n",
    "print(pred)"
   ]
  },
  {
   "cell_type": "code",
   "execution_count": null,
   "metadata": {},
   "outputs": [],
   "source": []
  }
 ],
 "metadata": {
  "kernelspec": {
   "display_name": "Python 3",
   "language": "python",
   "name": "python3"
  },
  "language_info": {
   "codemirror_mode": {
    "name": "ipython",
    "version": 3
   },
   "file_extension": ".py",
   "mimetype": "text/x-python",
   "name": "python",
   "nbconvert_exporter": "python",
   "pygments_lexer": "ipython3",
   "version": "3.10.10"
  },
  "orig_nbformat": 4
 },
 "nbformat": 4,
 "nbformat_minor": 2
}
