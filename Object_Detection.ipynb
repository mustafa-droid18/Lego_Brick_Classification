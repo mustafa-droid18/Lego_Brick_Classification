{
 "cells": [
  {
   "cell_type": "code",
   "execution_count": 10,
   "metadata": {},
   "outputs": [],
   "source": [
    "import cv2\n",
    "\n",
    "image = cv2.imread(\"objects.jpg\")"
   ]
  },
  {
   "cell_type": "code",
   "execution_count": 11,
   "metadata": {},
   "outputs": [
    {
     "data": {
      "text/plain": [
       "-1"
      ]
     },
     "execution_count": 11,
     "metadata": {},
     "output_type": "execute_result"
    }
   ],
   "source": [
    "gray = cv2.cvtColor(image, cv2.COLOR_BGR2GRAY)\n",
    "blurred = cv2.GaussianBlur(gray, (3, 3), 0)\n",
    "\n",
    "edged = cv2.Canny(blurred, 10, 100)\n",
    "\n",
    "cv2.imshow(\"Original image\", image)\n",
    "cv2.imshow(\"Edged image\", edged)\n",
    "cv2.waitKey(0)"
   ]
  },
  {
   "cell_type": "code",
   "execution_count": 9,
   "metadata": {},
   "outputs": [
    {
     "name": "stdout",
     "output_type": "stream",
     "text": [
      "1 objects were found in this image.\n"
     ]
    },
    {
     "data": {
      "text/plain": [
       "-1"
      ]
     },
     "execution_count": 9,
     "metadata": {},
     "output_type": "execute_result"
    }
   ],
   "source": [
    "# find the contours in the edged image\n",
    "contours, _ = cv2.findContours(edged, cv2.RETR_EXTERNAL, cv2.CHAIN_APPROX_SIMPLE)\n",
    "image_copy = image.copy()\n",
    "# draw the contours on a copy of the original image\n",
    "cv2.drawContours(image_copy, contours, -1, (0, 255, 0), 2)\n",
    "print(len(contours), \"objects were found in this image.\")\n",
    "\n",
    "cv2.imshow(\"Edged image\", edged)\n",
    "cv2.imshow(\"contours\", image_copy)\n",
    "cv2.waitKey(0)"
   ]
  },
  {
   "cell_type": "code",
   "execution_count": 12,
   "metadata": {},
   "outputs": [
    {
     "name": "stdout",
     "output_type": "stream",
     "text": [
      "1 objects were found in this image.\n"
     ]
    },
    {
     "data": {
      "text/plain": [
       "-1"
      ]
     },
     "execution_count": 12,
     "metadata": {},
     "output_type": "execute_result"
    }
   ],
   "source": [
    "image = cv2.imread(\"objects.jpg\")\n",
    "gray = cv2.cvtColor(image, cv2.COLOR_BGR2GRAY)\n",
    "blurred = cv2.GaussianBlur(gray, (3, 3), 0)\n",
    "edged = cv2.Canny(blurred, 10, 100)\n",
    "\n",
    "# define a (3, 3) structuring element\n",
    "kernel = cv2.getStructuringElement(cv2.MORPH_RECT, (3, 3))\n",
    "\n",
    "# apply the dilation operation to the edged image\n",
    "dilate = cv2.dilate(edged, kernel, iterations=1)\n",
    "\n",
    "# find the contours in the dilated image\n",
    "contours, _ = cv2.findContours(dilate, cv2.RETR_EXTERNAL, cv2.CHAIN_APPROX_SIMPLE)\n",
    "image_copy = image.copy()\n",
    "# draw the contours on a copy of the original image\n",
    "cv2.drawContours(image_copy, contours, -1, (0, 255, 0), 2)\n",
    "print(len(contours), \"objects were found in this image.\")\n",
    "\n",
    "cv2.imshow(\"Dilated image\", dilate)\n",
    "cv2.imshow(\"contours\", image_copy)\n",
    "cv2.waitKey(0)"
   ]
  },
  {
   "cell_type": "code",
   "execution_count": 15,
   "metadata": {},
   "outputs": [],
   "source": [
    "# OpenCV program to perform Edge detection in real time\n",
    "# import libraries of python OpenCV\n",
    "# where its functionality resides\n",
    "import cv2\n",
    "\n",
    "# np is an alias pointing to numpy library\n",
    "import numpy as np\n",
    "\n",
    "\n",
    "# capture frames from a camera\n",
    "cap = cv2.VideoCapture(0)\n",
    "\n",
    "\n",
    "# loop runs if capturing has been initialized\n",
    "while(1):\n",
    "\n",
    "\t# reads frames from a camera\n",
    "\tret, frame = cap.read()\n",
    "\n",
    "\t# converting BGR to HSV\n",
    "\thsv = cv2.cvtColor(frame, cv2.COLOR_BGR2HSV)\n",
    "\t\n",
    "\t# define range of red color in HSV\n",
    "\tlower_red = np.array([30,150,50])\n",
    "\tupper_red = np.array([255,255,180])\n",
    "\t\n",
    "\t# create a red HSV colour boundary and\n",
    "\t# threshold HSV image\n",
    "\tmask = cv2.inRange(hsv, lower_red, upper_red)\n",
    "\n",
    "\t# Bitwise-AND mask and original image\n",
    "\tres = cv2.bitwise_and(frame,frame, mask= mask)\n",
    "\n",
    "\t\n",
    "\n",
    "\t# finds edges in the input image and\n",
    "\t# marks them in the output map edges\n",
    "\tedges = cv2.Canny(frame,100,200)\n",
    "\t# define a (3, 3) structuring element\n",
    "\t\n",
    "\tkernel = cv2.getStructuringElement(cv2.MORPH_RECT, (3, 3))\n",
    "\n",
    "\t# apply the dilation operation to the edged image\n",
    "\tdilate = cv2.dilate(edges, kernel, iterations=1)\n",
    "\n",
    "\t# find the contours in the dilated image\n",
    "\tcontours, _ = cv2.findContours(dilate, cv2.RETR_EXTERNAL, cv2.CHAIN_APPROX_SIMPLE)\n",
    "\n",
    "\timage_copy = frame.copy()\n",
    "\t# draw the contours on a copy of the original image\n",
    "\tcv2.drawContours(image_copy, contours, -1, (0, 255, 0), 2)\n",
    "\n",
    "\t# Display an original image\n",
    "\tcv2.imshow('Original',image_copy)\n",
    "\n",
    "\t# Display edges in a frame\n",
    "\tcv2.imshow('Edges',edges)\n",
    "\n",
    "\t# Wait for Esc key to stop\n",
    "\tk = cv2.waitKey(5) & 0xFF\n",
    "\tif k == 27:\n",
    "\t\tbreak\n",
    "\n",
    "\n",
    "# Close the window\n",
    "cap.release()\n",
    "\n",
    "# De-allocate any associated memory usage\n",
    "cv2.destroyAllWindows()\n"
   ]
  },
  {
   "cell_type": "code",
   "execution_count": null,
   "metadata": {},
   "outputs": [],
   "source": []
  }
 ],
 "metadata": {
  "kernelspec": {
   "display_name": "Python 3",
   "language": "python",
   "name": "python3"
  },
  "language_info": {
   "codemirror_mode": {
    "name": "ipython",
    "version": 3
   },
   "file_extension": ".py",
   "mimetype": "text/x-python",
   "name": "python",
   "nbconvert_exporter": "python",
   "pygments_lexer": "ipython3",
   "version": "3.10.10"
  },
  "orig_nbformat": 4
 },
 "nbformat": 4,
 "nbformat_minor": 2
}
