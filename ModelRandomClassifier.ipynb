{
 "cells": [
  {
   "cell_type": "code",
   "execution_count": 124,
   "metadata": {},
   "outputs": [],
   "source": [
    "import cv2\n",
    "import matplotlib.pyplot as plt\n",
    "import os\n",
    "import numpy as np"
   ]
  },
  {
   "cell_type": "code",
   "execution_count": 333,
   "metadata": {},
   "outputs": [],
   "source": [
    "def get_image(image_path):\n",
    "    image = cv2.imread(image_path)\n",
    "    image = cv2.cvtColor(image, cv2.COLOR_BGR2RGB)\n",
    "    blurred = cv2.GaussianBlur(image, (3, 3), 0)\n",
    "    edged = cv2.Canny(blurred,10, 100, apertureSize= 3)\n",
    "    kernel = cv2.getStructuringElement(cv2.MORPH_RECT, (3, 3))\n",
    "    dilate = cv2.dilate(edged, kernel, iterations=1)\n",
    "    return (dilate,image)"
   ]
  },
  {
   "cell_type": "code",
   "execution_count": 334,
   "metadata": {},
   "outputs": [],
   "source": [
    "directory = \"Images/Cropped Images\"\n",
    "directory2 = 'Images/Train/'\n",
    "o=[]\n",
    "x=[]\n",
    "y=[]\n",
    "for root, dirs, files in os.walk(directory):\n",
    "  for dir in dirs:\n",
    "    fetch_file=os.path.join(root, dir)\n",
    "    save_file=os.path.join(directory2,dir)\n",
    "    for file in os.listdir(fetch_file):\n",
    "      if not file.startswith('.'):\n",
    "        temp1,temp2=get_image(os.path.join(fetch_file,file))\n",
    "        x.append(temp1)\n",
    "        o.append(temp2)\n",
    "        y.append(dir)\n",
    "        save=os.path.join(save_file+'/',file)\n",
    "        #print(save)\n",
    "        if cv2.imwrite(save,temp1):\n",
    "          cv2.imwrite(save,temp1)\n",
    "          continue\n",
    "        else :\n",
    "          os.makedirs(save_file)"
   ]
  },
  {
   "cell_type": "code",
   "execution_count": 337,
   "metadata": {},
   "outputs": [],
   "source": [
    "X=[]\n",
    "for i in x:\n",
    "    X.append(cv2.resize(i,(500,500)))"
   ]
  },
  {
   "cell_type": "code",
   "execution_count": 338,
   "metadata": {},
   "outputs": [
    {
     "name": "stdout",
     "output_type": "stream",
     "text": [
      "Brick_1x1\n"
     ]
    },
    {
     "data": {
      "text/plain": [
       "<matplotlib.image.AxesImage at 0x2d5b13e23b0>"
      ]
     },
     "execution_count": 338,
     "metadata": {},
     "output_type": "execute_result"
    },
    {
     "data": {
      "image/png": "[encoded data removed]",
      "text/plain": [
       "<Figure size 640x480 with 1 Axes>"
      ]
     },
     "metadata": {},
     "output_type": "display_data"
    }
   ],
   "source": [
    "print(y[0])\n",
    "plt.imshow(X[0])"
   ]
  },
  {
   "cell_type": "code",
   "execution_count": 325,
   "metadata": {},
   "outputs": [
    {
     "name": "stdout",
     "output_type": "stream",
     "text": [
      "<class 'list'>\n"
     ]
    },
    {
     "data": {
      "text/plain": [
       "(4580, 500, 500)"
      ]
     },
     "execution_count": 325,
     "metadata": {},
     "output_type": "execute_result"
    }
   ],
   "source": [
    "print(type(X))\n",
    "X=np.array(X)\n",
    "X.shape"
   ]
  },
  {
   "cell_type": "code",
   "execution_count": 326,
   "metadata": {},
   "outputs": [
    {
     "name": "stdout",
     "output_type": "stream",
     "text": [
      "(4580, 250000)\n"
     ]
    }
   ],
   "source": [
    "# Reshape the array into shape (n_samples, n_features)\n",
    "n_samples = X.shape[0]\n",
    "n_features = X.shape[1] * X.shape[2]\n",
    "X = np.reshape(X, (n_samples, n_features))\n",
    "\n",
    "print(X.shape)"
   ]
  },
  {
   "cell_type": "code",
   "execution_count": 222,
   "metadata": {},
   "outputs": [
    {
     "name": "stdout",
     "output_type": "stream",
     "text": [
      "(4580, 25)\n"
     ]
    }
   ],
   "source": [
    "from sklearn.preprocessing import MultiLabelBinarizer\n",
    "\n",
    "#label = ['Brick_1x1','Brick_1x2','Brick_1x3','Brick_1x4','Brick_2x2','Plate_2x4','Brick_2x2_L','Brick_2x2_Slope','Brick_2x3','Brick_2x4','Plate_1x1','Plate_1x1_Round','Plate_1x1_Slope','Plate_1x2','Plate_1x2_Grill','Plate_1x3','Plate_1x4','Plate_2x2','Plate_2x2_L','Plate_2x3']\n",
    "\n",
    "# Convert the list of labels to a binary array\n",
    "mlb = MultiLabelBinarizer()\n",
    "y_binary = mlb.fit_transform(y)\n",
    "y_string = mlb.inverse_transform(y_binary)\n",
    "\n",
    "# Check the shape of the binary array\n",
    "print(y_binary.shape)"
   ]
  },
  {
   "cell_type": "code",
   "execution_count": 323,
   "metadata": {},
   "outputs": [],
   "source": [
    "label = {'Brick_1x1':0,'Brick_1x2':1,'Brick_1x3':2,'Brick_1x4':3,'Brick_2x2':4,'Plate_2x4':5,'Brick_2x2_L':6,'Brick_2x2_Slope':7,'Brick_2x3':8,'Brick_2x4':9,'Plate_1x1':10,'Plate_1x1_Round':11,'Plate_1x1_Slope':12,'Plate_1x2':13,'Plate_1x2_Grill':14,'Plate_1x3':15,'Plate_1x4':16,'Plate_2x2':17,'Plate_2x2_L':18,'Plate_2x3':19}\n",
    "def match_labels_to_keys(y, label):\n",
    "    # Initialize an empty list to store the matching keys\n",
    "    keys = []\n",
    "    # Loop through each element in y\n",
    "    for element in y:\n",
    "        # Check if the element is in the values of the dictionary\n",
    "        if element in label.keys():\n",
    "            # If the element is in the values, find the corresponding key\n",
    "            for key, value in label.items():\n",
    "                if key == element:\n",
    "                    keys.append(value)\n",
    "\n",
    "    return keys\n",
    "key=match_labels_to_keys(y,label)"
   ]
  },
  {
   "cell_type": "code",
   "execution_count": null,
   "metadata": {},
   "outputs": [],
   "source": [
    "from sklearn.multioutput import MultiOutputClassifier\n",
    "from sklearn.ensemble import RandomForestClassifier\n",
    "from sklearn.datasets import make_multilabel_classification\n",
    "from sklearn.model_selection import train_test_split\n",
    "from sklearn.metrics import classification_report\n",
    "\n",
    "# Split the dataset into training and testing sets\n",
    "X_train, X_test, y_train, y_test = train_test_split(X, y_binary, test_size=0.2, random_state=42,stratify=y_stratify)\n",
    "\n",
    "# Define a Random Forest classifier\n",
    "clf = RandomForestClassifier(n_estimators=100, random_state=42)\n",
    "\n",
    "# Define a MultiOutputClassifier with the Random Forest classifier\n",
    "multi_clf = MultiOutputClassifier(clf)\n",
    "\n",
    "# Fit the MultiOutputClassifier to the training data\n",
    "multi_clf.fit(X_train, y_train)\n",
    "\n",
    "# Make predictions on the testing data\n",
    "y_pred = multi_clf.predict(X_test)\n",
    "\n",
    "# Print classification report\n",
    "print(classification_report(y_test, y_pred))"
   ]
  },
  {
   "cell_type": "code",
   "execution_count": 327,
   "metadata": {},
   "outputs": [
    {
     "name": "stdout",
     "output_type": "stream",
     "text": [
      "              precision    recall  f1-score   support\n",
      "\n",
      "           0       0.89      0.93      0.91        43\n",
      "           1       0.68      0.90      0.77        48\n",
      "           2       0.82      0.87      0.85        38\n",
      "           3       0.66      0.83      0.73        48\n",
      "           4       0.69      0.77      0.73        47\n",
      "           5       0.78      0.67      0.72        43\n",
      "           6       0.66      0.81      0.73        63\n",
      "           7       0.64      0.42      0.51        38\n",
      "           8       0.80      0.70      0.75        40\n",
      "           9       0.70      0.77      0.73        48\n",
      "          10       0.85      0.69      0.76        58\n",
      "          11       0.95      0.93      0.94        42\n",
      "          12       0.63      0.73      0.68        66\n",
      "          13       0.82      0.56      0.67        41\n",
      "          14       0.74      0.91      0.81        43\n",
      "          15       0.78      0.72      0.75        40\n",
      "          16       0.84      0.80      0.82        45\n",
      "          17       0.90      0.88      0.89        42\n",
      "          18       0.87      0.60      0.71        45\n",
      "          19       0.94      0.76      0.84        38\n",
      "\n",
      "    accuracy                           0.76       916\n",
      "   macro avg       0.78      0.76      0.77       916\n",
      "weighted avg       0.77      0.76      0.76       916\n",
      "\n"
     ]
    }
   ],
   "source": [
    "from sklearn.multioutput import MultiOutputClassifier\n",
    "from sklearn.ensemble import RandomForestClassifier\n",
    "from sklearn.datasets import make_multilabel_classification\n",
    "from sklearn.model_selection import train_test_split\n",
    "from sklearn.metrics import classification_report\n",
    "\n",
    "# Split the dataset into training and testing sets\n",
    "X_train, X_test, y_train, y_test = train_test_split(X, key, test_size=0.2, random_state=42,stratify=key)\n",
    "\n",
    "# Define a Random Forest classifier\n",
    "clf = RandomForestClassifier(n_estimators=100, random_state=42)\n",
    "\n",
    "# Fit the MultiOutputClassifier to the training data\n",
    "clf.fit(X_train, y_train)\n",
    "\n",
    "# Make predictions on the testing data\n",
    "y_pred = clf.predict(X_test)\n",
    "\n",
    "# Print classification report\n",
    "print(classification_report(y_test, y_pred))"
   ]
  },
  {
   "cell_type": "code",
   "execution_count": 309,
   "metadata": {},
   "outputs": [],
   "source": [
    "def get_test(image_path):\n",
    "    image = cv2.imread(image_path,0)\n",
    "    image = cv2.cvtColor(image, cv2.COLOR_BGR2RGB)\n",
    "    blurred = cv2.GaussianBlur(image, (3, 3), 0)\n",
    "    edged = cv2.Canny(blurred,10, 100, apertureSize= 3)\n",
    "    kernel = cv2.getStructuringElement(cv2.MORPH_RECT, (3, 3))\n",
    "    dilate = cv2.dilate(edged, kernel, iterations=1)\n",
    "    return (dilate)"
   ]
  },
  {
   "cell_type": "code",
   "execution_count": 332,
   "metadata": {},
   "outputs": [
    {
     "data": {
      "text/plain": [
       "<matplotlib.image.AxesImage at 0x2d5b3ac4eb0>"
      ]
     },
     "execution_count": 332,
     "metadata": {},
     "output_type": "execute_result"
    },
    {
     "data": {
      "image/png": "[encoded data removed]",
      "text/plain": [
       "<Figure size 640x480 with 1 Axes>"
      ]
     },
     "metadata": {},
     "output_type": "display_data"
    }
   ],
   "source": [
    "test_d=get_test('test3.jpg')\n",
    "plt.imshow(test_d,cmap='gray')"
   ]
  },
  {
   "cell_type": "code",
   "execution_count": 328,
   "metadata": {},
   "outputs": [
    {
     "data": {
      "text/plain": [
       "array([[0, 0, 0, ..., 0, 0, 0]], dtype=uint8)"
      ]
     },
     "execution_count": 328,
     "metadata": {},
     "output_type": "execute_result"
    }
   ],
   "source": [
    "test=cv2.resize(test_d,(500,500))\n",
    "test=np.reshape(test,(1,500*500))\n",
    "test\n"
   ]
  },
  {
   "cell_type": "code",
   "execution_count": 330,
   "metadata": {},
   "outputs": [],
   "source": [
    "prediction=clf.predict(test)"
   ]
  },
  {
   "cell_type": "code",
   "execution_count": 331,
   "metadata": {},
   "outputs": [
    {
     "data": {
      "text/plain": [
       "array([3])"
      ]
     },
     "execution_count": 331,
     "metadata": {},
     "output_type": "execute_result"
    }
   ],
   "source": [
    "prediction"
   ]
  },
  {
   "cell_type": "code",
   "execution_count": null,
   "metadata": {},
   "outputs": [],
   "source": []
  }
 ],
 "metadata": {
  "kernelspec": {
   "display_name": "Python 3",
   "language": "python",
   "name": "python3"
  },
  "language_info": {
   "codemirror_mode": {
    "name": "ipython",
    "version": 3
   },
   "file_extension": ".py",
   "mimetype": "text/x-python",
   "name": "python",
   "nbconvert_exporter": "python",
   "pygments_lexer": "ipython3",
   "version": "3.10.10"
  },
  "orig_nbformat": 4
 },
 "nbformat": 4,
 "nbformat_minor": 2
}
